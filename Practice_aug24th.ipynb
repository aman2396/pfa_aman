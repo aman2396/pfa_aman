{
 "cells": [
  {
   "cell_type": "code",
   "execution_count": 1,
   "id": "6f007c50",
   "metadata": {},
   "outputs": [
    {
     "name": "stdout",
     "output_type": "stream",
     "text": [
      "17\n"
     ]
    }
   ],
   "source": [
    "#exercise 1\n",
    "print(7+10)"
   ]
  },
  {
   "cell_type": "code",
   "execution_count": 2,
   "id": "5ba7062e",
   "metadata": {},
   "outputs": [
    {
     "name": "stdout",
     "output_type": "stream",
     "text": [
      "17\n"
     ]
    }
   ],
   "source": [
    "#Addition\n",
    "print(7+10)"
   ]
  },
  {
   "cell_type": "code",
   "execution_count": 3,
   "id": "6d985638",
   "metadata": {},
   "outputs": [
    {
     "name": "stdout",
     "output_type": "stream",
     "text": [
      "13\n"
     ]
    }
   ],
   "source": [
    "#Subtraction\n",
    "print(25-12)"
   ]
  },
  {
   "cell_type": "code",
   "execution_count": 4,
   "id": "7e34785c",
   "metadata": {},
   "outputs": [
    {
     "name": "stdout",
     "output_type": "stream",
     "text": [
      "15\n"
     ]
    }
   ],
   "source": [
    "#Multiplication\n",
    "print(3*5)"
   ]
  },
  {
   "cell_type": "code",
   "execution_count": 5,
   "id": "6db79797",
   "metadata": {},
   "outputs": [
    {
     "name": "stdout",
     "output_type": "stream",
     "text": [
      "5.0\n"
     ]
    }
   ],
   "source": [
    "#Division\n",
    "print(10/2)"
   ]
  },
  {
   "cell_type": "code",
   "execution_count": 6,
   "id": "ac1ceebe",
   "metadata": {},
   "outputs": [
    {
     "name": "stdout",
     "output_type": "stream",
     "text": [
      "4\n"
     ]
    }
   ],
   "source": [
    "#Remainder\n",
    "print(18%7)\n"
   ]
  },
  {
   "cell_type": "code",
   "execution_count": 7,
   "id": "ecf86b09",
   "metadata": {},
   "outputs": [
    {
     "name": "stdout",
     "output_type": "stream",
     "text": [
      "16\n"
     ]
    }
   ],
   "source": [
    "#power\n",
    "print(4**2)"
   ]
  },
  {
   "cell_type": "code",
   "execution_count": 8,
   "id": "bac81d6f",
   "metadata": {},
   "outputs": [
    {
     "name": "stdout",
     "output_type": "stream",
     "text": [
      "enter the principal amount5000\n",
      "enter the rate of interest7\n",
      "enter the no of years5\n",
      "the total interest earned is 1750.0\n",
      "the total value is 6750.0\n"
     ]
    }
   ],
   "source": [
    "#Solve the following question of SI \n",
    "#John invest Rs 5000 in a saving a/c at an annual rate of 7% for 5 years\n",
    "#(A)How much money did he earned in intrest?\n",
    "P= input(\"enter the principal amount\")\n",
    "R=input(\"enter the rate of interest\")\n",
    "N=input(\"enter the no of years\")\n",
    "SI= (float(P)*float(N)*float(R))/100\n",
    "print(\"the total interest earned is\",SI)\n",
    "\n",
    "#(B)What is the total value of his saving accunt at this point\n",
    "Total_value= float(P)+ float(SI)\n",
    "print(\"the total value is\",Total_value)"
   ]
  },
  {
   "cell_type": "code",
   "execution_count": 9,
   "id": "e527098d",
   "metadata": {},
   "outputs": [
    {
     "name": "stdout",
     "output_type": "stream",
     "text": [
      "enter the principal amount8000\n",
      "enter the rate of interest8.7\n",
      "enter the interest earned4872\n",
      "The total no of years is 7.0\n"
     ]
    }
   ],
   "source": [
    "#Sally invest $8000 into an account payuing an annual intreat rate of 8.7%.How many years it will take for her to earn $4872 in intrest?\n",
    "P=input(\"enter the principal amount\")\n",
    "R=input(\"enter the rate of interest\")\n",
    "SI=input(\"enter the interest earned\")\n",
    "T=(float(SI)*100)/(float(P)*float(R))\n",
    "print(\"The total no of years is\",T)"
   ]
  },
  {
   "cell_type": "code",
   "execution_count": 10,
   "id": "52d8e83f",
   "metadata": {},
   "outputs": [
    {
     "name": "stdout",
     "output_type": "stream",
     "text": [
      "6.4\n"
     ]
    }
   ],
   "source": [
    "#(3)Marie invest $3000 into a saving a/c ,In 4 years she earns a total of $768 in intrest.What is the annual intrest rate offered by this account?\n",
    "print((float(768)*100)/(float(3000)*float(4)))"
   ]
  },
  {
   "cell_type": "code",
   "execution_count": 11,
   "id": "3fe967e4",
   "metadata": {},
   "outputs": [
    {
     "name": "stdout",
     "output_type": "stream",
     "text": [
      "194.87171000000012\n"
     ]
    }
   ],
   "source": [
    "#Suppose you have $100.......print the result\n",
    "print(float(100)*(float(1.1)**7))"
   ]
  },
  {
   "cell_type": "code",
   "execution_count": 12,
   "id": "ea57adf1",
   "metadata": {},
   "outputs": [
    {
     "name": "stdout",
     "output_type": "stream",
     "text": [
      "100\n",
      "1.1\n",
      "194.87171000000012\n"
     ]
    }
   ],
   "source": [
    "#END OF EXERCISE 1.....XXX\n",
    "\n",
    "#EXERCISE 2\n",
    "#Exercise 2\n",
    "#(1)Create a variable saving\n",
    "savings=100\n",
    "print(savings)\n",
    "#Create a variable growth_multiplier\n",
    "growth_multiplier=float(1.1)\n",
    "print(growth_multiplier)\n",
    "#create variable result\n",
    "result=194.87171000000012\n",
    "print(result)"
   ]
  },
  {
   "cell_type": "code",
   "execution_count": 13,
   "id": "e4702a9c",
   "metadata": {},
   "outputs": [
    {
     "data": {
      "text/plain": [
       "str"
      ]
     },
     "execution_count": 13,
     "metadata": {},
     "output_type": "execute_result"
    }
   ],
   "source": [
    "#creating string\n",
    "desc=\"compound interest\"\n",
    "type(desc)\n"
   ]
  },
  {
   "cell_type": "code",
   "execution_count": 14,
   "id": "bb6d4bb9",
   "metadata": {},
   "outputs": [
    {
     "data": {
      "text/plain": [
       "bool"
      ]
     },
     "execution_count": 14,
     "metadata": {},
     "output_type": "execute_result"
    }
   ],
   "source": [
    "#boolean\n",
    "profitable=True\n",
    "type(profitable)"
   ]
  },
  {
   "cell_type": "code",
   "execution_count": 17,
   "id": "3e720e5a",
   "metadata": {},
   "outputs": [
    {
     "data": {
      "text/plain": [
       "float"
      ]
     },
     "execution_count": 17,
     "metadata": {},
     "output_type": "execute_result"
    }
   ],
   "source": [
    "A=10.7\n",
    "type(A)"
   ]
  },
  {
   "cell_type": "code",
   "execution_count": 18,
   "id": "d2df84fe",
   "metadata": {},
   "outputs": [
    {
     "data": {
      "text/plain": [
       "str"
      ]
     },
     "execution_count": 18,
     "metadata": {},
     "output_type": "execute_result"
    }
   ],
   "source": [
    "B=\"This is python course\"\n",
    "type(B)"
   ]
  },
  {
   "cell_type": "code",
   "execution_count": 19,
   "id": "d59e2310",
   "metadata": {},
   "outputs": [
    {
     "data": {
      "text/plain": [
       "bool"
      ]
     },
     "execution_count": 19,
     "metadata": {},
     "output_type": "execute_result"
    }
   ],
   "source": [
    "C=False\n",
    "type(C)"
   ]
  },
  {
   "cell_type": "code",
   "execution_count": 22,
   "id": "5c67b12b",
   "metadata": {},
   "outputs": [
    {
     "name": "stdout",
     "output_type": "stream",
     "text": [
      "110.00000000000001\n",
      "compound Interest compound Interest \n",
      "110.00000000000001\n",
      "compound Interest compound Interest \n"
     ]
    }
   ],
   "source": [
    "savings=100\n",
    "growth_multiplier=1.1\n",
    "desc=\"compound Interest \"\n",
    "year1=print(float(savings)*float(growth_multiplier))\n",
    "\n",
    "doubledesc=str(desc)+str(desc)\n",
    "print(doubledesc)\n",
    "savings=100\n",
    "growth_multiplier=1.1\n",
    "desc=\"compound Interest \"\n",
    "year1=print(float(savings)*float(growth_multiplier))\n",
    "\n",
    "doubledesc=str(desc)+str(desc)\n",
    "print(doubledesc)\n"
   ]
  },
  {
   "cell_type": "code",
   "execution_count": 23,
   "id": "f454d09a",
   "metadata": {},
   "outputs": [
    {
     "name": "stdout",
     "output_type": "stream",
     "text": [
      "6.2831852\n"
     ]
    }
   ],
   "source": [
    "pi_string=\"3.1415926\"\n",
    "pi_float= float(pi_string)\n",
    "double_pi=print(pi_float*2)"
   ]
  },
  {
   "cell_type": "code",
   "execution_count": 24,
   "id": "cfb78517",
   "metadata": {},
   "outputs": [
    {
     "name": "stdout",
     "output_type": "stream",
     "text": [
      "5 to strings\n",
      "I said HeyHeyHey!\n",
      "1\n"
     ]
    }
   ],
   "source": [
    "print(str(5)+\" to strings\")\n",
    "print(\"I said \"+(\"Hey\"*2)+\"Hey!\")\n",
    "#print(\"the correct answer to this multiple choice exercise is answer number\"+2)  this statement gives an error\n",
    "print(True+False)\n"
   ]
  },
  {
   "cell_type": "code",
   "execution_count": 25,
   "id": "9f138c38",
   "metadata": {},
   "outputs": [
    {
     "name": "stdout",
     "output_type": "stream",
     "text": [
      "enter the number5\n",
      "the number is odd\n"
     ]
    }
   ],
   "source": [
    "#Exercise 3..........XXX\n",
    "#check wheter the given no is even or not\n",
    "num=input(\"enter the number\")\n",
    "if float(num)%2==0:\n",
    "    print(\"the number is even\")\n",
    "else:\n",
    "    print(\"the number is odd\")"
   ]
  },
  {
   "cell_type": "code",
   "execution_count": 26,
   "id": "eb278c59",
   "metadata": {},
   "outputs": [
    {
     "name": "stdout",
     "output_type": "stream",
     "text": [
      "enter the temperature in celsius30\n",
      "the temperature in fahrenheit is  86.0\n"
     ]
    }
   ],
   "source": [
    "#converting temperature in degree /centigrade to fahrenheit\n",
    "T=input(\"enter the temperature in celsius\")\n",
    "F= (float(T)*1.8)+32\n",
    "print(\"the temperature in fahrenheit is \",F)"
   ]
  },
  {
   "cell_type": "code",
   "execution_count": 30,
   "id": "7a5aeab7",
   "metadata": {},
   "outputs": [
    {
     "name": "stdout",
     "output_type": "stream",
     "text": [
      "enter the side1 4\n",
      "enter the side2 3\n",
      "enter the side3 6\n",
      "5.332682251925386\n"
     ]
    }
   ],
   "source": [
    "#Calculate area of triangle\n",
    "import math\n",
    "math.sqrt\n",
    "side1=input(\"enter the side1 \")\n",
    "side2=input(\"enter the side2 \")\n",
    "side3=input(\"enter the side3 \")\n",
    "a= float(side1)\n",
    "b=float(side2)\n",
    "c=float(side3)\n",
    "S=(a+b+c)/2\n",
    "area=math.sqrt(S*(S-a)*(S-b)*(S-c))\n",
    "print(area)"
   ]
  },
  {
   "cell_type": "code",
   "execution_count": 29,
   "id": "27525111",
   "metadata": {},
   "outputs": [
    {
     "name": "stdout",
     "output_type": "stream",
     "text": [
      "PI is 3.141592653589793\n",
      "Area is 50.26548245743669\n"
     ]
    }
   ],
   "source": [
    "#Calculate area and circumference of circle\n",
    "import math\n",
    "radius=4\n",
    "print(\"PI is\",math.pi)\n",
    "print(\"Area is\",math.pi*(int(radius)**2))\n"
   ]
  },
  {
   "cell_type": "code",
   "execution_count": 31,
   "id": "d8b00dfa",
   "metadata": {},
   "outputs": [
    {
     "name": "stdout",
     "output_type": "stream",
     "text": [
      "enter the number65\n",
      "multiple of 5\n"
     ]
    }
   ],
   "source": [
    "#Check whether a given input is multiple of 5 or not\n",
    "num=input(\"enter the number\")\n",
    "n=float(num)\n",
    "if float(n%5==0):\n",
    "    print(\"multiple of 5\")\n",
    "else:\n",
    "    print(\"not a multiple of 5\")"
   ]
  },
  {
   "cell_type": "code",
   "execution_count": null,
   "id": "62228620",
   "metadata": {},
   "outputs": [],
   "source": []
  }
 ],
 "metadata": {
  "kernelspec": {
   "display_name": "Python 3",
   "language": "python",
   "name": "python3"
  },
  "language_info": {
   "codemirror_mode": {
    "name": "ipython",
    "version": 3
   },
   "file_extension": ".py",
   "mimetype": "text/x-python",
   "name": "python",
   "nbconvert_exporter": "python",
   "pygments_lexer": "ipython3",
   "version": "3.8.8"
  }
 },
 "nbformat": 4,
 "nbformat_minor": 5
}
